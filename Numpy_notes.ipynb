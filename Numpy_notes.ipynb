{
  "cells": [
    {
      "cell_type": "markdown",
      "metadata": {
        "id": "kEB-r9UyY4vW"
      },
      "source": [
        "# Numpy(numerical python):\n",
        "  * NumPy (or Numpy) is a Linear Algebra Library for Python, the reason it is so important for Data Science with Python is that almost all of the libraries in the PyData Ecosystem rely on NumPy as one of their main building blocks.\n",
        "  * Numpy is also incredibly fast, as it has bindings to C libraries. \n",
        "  * For more info on why you would want to use Arrays instead of lists, check out this great StackOverflow post."
      ]
    },
    {
      "cell_type": "markdown",
      "metadata": {
        "id": "fxAUuutTZjkO"
      },
      "source": [
        "\n",
        "# Using numpy\n",
        "  * once youve installed numpy u can import it as a library."
      ]
    },
    {
      "cell_type": "code",
      "execution_count": 99,
      "metadata": {
        "colab": {
          "base_uri": "https://localhost:8080/"
        },
        "id": "cLEJNA4ZZhEF",
        "outputId": "2ebb58c7-bdfc-4493-e8a5-13b11ee101f8"
      },
      "outputs": [
        {
          "output_type": "stream",
          "name": "stdout",
          "text": [
            "Requirement already satisfied: numpy in /usr/local/lib/python3.7/dist-packages (1.21.6)\n"
          ]
        }
      ],
      "source": [
        "!pip install numpy"
      ]
    },
    {
      "cell_type": "code",
      "execution_count": 100,
      "metadata": {
        "id": "IC566TC_7rGG"
      },
      "outputs": [],
      "source": [
        "import numpy as np  #import the package"
      ]
    },
    {
      "cell_type": "code",
      "execution_count": 101,
      "metadata": {
        "colab": {
          "base_uri": "https://localhost:8080/"
        },
        "id": "LWE7dsx3Zg4l",
        "outputId": "82de99ee-b3f3-4587-8e05-5b54b4a5f4e2"
      },
      "outputs": [
        {
          "output_type": "execute_result",
          "data": {
            "text/plain": [
              "[1, 2, 3, 4, 5]"
            ]
          },
          "metadata": {},
          "execution_count": 101
        }
      ],
      "source": [
        "#fist pass the data inthe list\n",
        "lst = [1,2,3,4,5]\n",
        "lst "
      ]
    },
    {
      "cell_type": "code",
      "execution_count": 102,
      "metadata": {
        "colab": {
          "base_uri": "https://localhost:8080/"
        },
        "id": "yMAyUohEZgxH",
        "outputId": "72f8d3f4-9b2b-4a0a-9329-50e08a1c2c2e"
      },
      "outputs": [
        {
          "output_type": "execute_result",
          "data": {
            "text/plain": [
              "array([1, 2, 3, 4, 5])"
            ]
          },
          "metadata": {},
          "execution_count": 102
        }
      ],
      "source": [
        "#convert to the numpy array \n",
        "np.array(lst)"
      ]
    },
    {
      "cell_type": "code",
      "execution_count": 103,
      "metadata": {
        "id": "JhyJErl_Zgm6"
      },
      "outputs": [],
      "source": [
        "#data into the matrix\n",
        "matrix = [\n",
        "          [1,2,3],\n",
        "          [4,5,6],\n",
        "          [7,8,9]\n",
        "]"
      ]
    },
    {
      "cell_type": "code",
      "execution_count": 104,
      "metadata": {
        "colab": {
          "base_uri": "https://localhost:8080/"
        },
        "id": "P2v9Asx-ZggS",
        "outputId": "6566f714-b2d2-4f81-9adb-8e0a3e5836df"
      },
      "outputs": [
        {
          "output_type": "execute_result",
          "data": {
            "text/plain": [
              "array([[1, 2, 3],\n",
              "       [4, 5, 6],\n",
              "       [7, 8, 9]])"
            ]
          },
          "metadata": {},
          "execution_count": 104
        }
      ],
      "source": [
        "np.array(matrix)"
      ]
    },
    {
      "cell_type": "markdown",
      "metadata": {
        "id": "jWk1eQRO2__B"
      },
      "source": [
        "# Built-in Methods\n",
        "  * There are lots of built-in ways to generate Arrays\n",
        "  * arange:\n",
        "      * Return evenly spaced values within a given interval."
      ]
    },
    {
      "cell_type": "code",
      "execution_count": 105,
      "metadata": {
        "colab": {
          "base_uri": "https://localhost:8080/"
        },
        "id": "QineJGOjZgUg",
        "outputId": "0ffe1bc5-1a03-42da-db7f-937b1347702e"
      },
      "outputs": [
        {
          "output_type": "execute_result",
          "data": {
            "text/plain": [
              "array([ 0,  1,  2,  3,  4,  5,  6,  7,  8,  9, 10])"
            ]
          },
          "metadata": {},
          "execution_count": 105
        }
      ],
      "source": [
        "#create a range function like example for loop range\n",
        "np.arange(0,11)"
      ]
    },
    {
      "cell_type": "code",
      "execution_count": 106,
      "metadata": {
        "colab": {
          "base_uri": "https://localhost:8080/"
        },
        "id": "aQvADtvwZgN4",
        "outputId": "37701d60-6370-41af-e391-4a3f85326fd2"
      },
      "outputs": [
        {
          "output_type": "execute_result",
          "data": {
            "text/plain": [
              "array([ 0,  2,  4,  6,  8, 10])"
            ]
          },
          "metadata": {},
          "execution_count": 106
        }
      ],
      "source": [
        "# arange() using stepinterval\n",
        "np.arange(0,11,2)"
      ]
    },
    {
      "cell_type": "code",
      "execution_count": 107,
      "metadata": {
        "colab": {
          "base_uri": "https://localhost:8080/"
        },
        "id": "dEHYeajJ42jN",
        "outputId": "19634c17-2e23-4c1a-fa85-105260d798fa"
      },
      "outputs": [
        {
          "output_type": "execute_result",
          "data": {
            "text/plain": [
              "array([0., 0., 0.])"
            ]
          },
          "metadata": {},
          "execution_count": 107
        }
      ],
      "source": [
        "#generate zeros in array\n",
        "np.zeros(3)"
      ]
    },
    {
      "cell_type": "code",
      "execution_count": 108,
      "metadata": {
        "colab": {
          "base_uri": "https://localhost:8080/"
        },
        "id": "RA3CBcwoZgIK",
        "outputId": "b7baa2de-4170-450b-d4b4-b933cac052cf"
      },
      "outputs": [
        {
          "output_type": "execute_result",
          "data": {
            "text/plain": [
              "array([[0., 0., 0., 0., 0.],\n",
              "       [0., 0., 0., 0., 0.],\n",
              "       [0., 0., 0., 0., 0.],\n",
              "       [0., 0., 0., 0., 0.],\n",
              "       [0., 0., 0., 0., 0.]])"
            ]
          },
          "metadata": {},
          "execution_count": 108
        }
      ],
      "source": [
        "#generate zeros in matrix \n",
        "np.zeros((5,5)) #fun ku"
      ]
    },
    {
      "cell_type": "code",
      "execution_count": 109,
      "metadata": {
        "colab": {
          "base_uri": "https://localhost:8080/"
        },
        "id": "V8-E2Ity8FSm",
        "outputId": "34b8b492-01f0-4cea-b792-6abbd67d4a39"
      },
      "outputs": [
        {
          "output_type": "execute_result",
          "data": {
            "text/plain": [
              "array([1., 1., 1.])"
            ]
          },
          "metadata": {},
          "execution_count": 109
        }
      ],
      "source": [
        "#generate ones in the array \n",
        "np.ones(3)"
      ]
    },
    {
      "cell_type": "code",
      "execution_count": 110,
      "metadata": {
        "colab": {
          "base_uri": "https://localhost:8080/"
        },
        "id": "MaQLOXgdZgCo",
        "outputId": "6283ee99-e0ec-49fe-dcb6-aac767e1bdcb"
      },
      "outputs": [
        {
          "output_type": "execute_result",
          "data": {
            "text/plain": [
              "array([[1., 1., 1., 1., 1.],\n",
              "       [1., 1., 1., 1., 1.],\n",
              "       [1., 1., 1., 1., 1.],\n",
              "       [1., 1., 1., 1., 1.],\n",
              "       [1., 1., 1., 1., 1.]])"
            ]
          },
          "metadata": {},
          "execution_count": 110
        }
      ],
      "source": [
        "#generate onces in matrix\n",
        "np.ones((5,5))"
      ]
    },
    {
      "cell_type": "markdown",
      "metadata": {
        "id": "5Gq6Z9Re8US_"
      },
      "source": [
        "# linspace:\n",
        "  * Return evenly spaced numbers over a specified interval."
      ]
    },
    {
      "cell_type": "code",
      "execution_count": 111,
      "metadata": {
        "colab": {
          "base_uri": "https://localhost:8080/"
        },
        "id": "LQUDtFaC8O3e",
        "outputId": "9439de45-7ed7-4c9d-fdca-6e8acd3cf090"
      },
      "outputs": [
        {
          "output_type": "execute_result",
          "data": {
            "text/plain": [
              "array([ 0.,  5., 10.])"
            ]
          },
          "metadata": {},
          "execution_count": 111
        }
      ],
      "source": [
        "# generate linspace  separate the value in particular range value\n",
        "np.linspace(0,10,3)"
      ]
    },
    {
      "cell_type": "code",
      "execution_count": 112,
      "metadata": {
        "colab": {
          "base_uri": "https://localhost:8080/"
        },
        "id": "MvWvVtyd8Oyb",
        "outputId": "607adf20-683d-4659-86ee-1215989d0c88"
      },
      "outputs": [
        {
          "output_type": "execute_result",
          "data": {
            "text/plain": [
              "array([ 0.        ,  0.20408163,  0.40816327,  0.6122449 ,  0.81632653,\n",
              "        1.02040816,  1.2244898 ,  1.42857143,  1.63265306,  1.83673469,\n",
              "        2.04081633,  2.24489796,  2.44897959,  2.65306122,  2.85714286,\n",
              "        3.06122449,  3.26530612,  3.46938776,  3.67346939,  3.87755102,\n",
              "        4.08163265,  4.28571429,  4.48979592,  4.69387755,  4.89795918,\n",
              "        5.10204082,  5.30612245,  5.51020408,  5.71428571,  5.91836735,\n",
              "        6.12244898,  6.32653061,  6.53061224,  6.73469388,  6.93877551,\n",
              "        7.14285714,  7.34693878,  7.55102041,  7.75510204,  7.95918367,\n",
              "        8.16326531,  8.36734694,  8.57142857,  8.7755102 ,  8.97959184,\n",
              "        9.18367347,  9.3877551 ,  9.59183673,  9.79591837, 10.        ])"
            ]
          },
          "metadata": {},
          "execution_count": 112
        }
      ],
      "source": [
        "#genrate line space large anount of data\n",
        "np.linspace(0,10,50)"
      ]
    },
    {
      "cell_type": "markdown",
      "metadata": {
        "id": "PlXtpS2EUmTX"
      },
      "source": [
        "# eye() \n",
        "  * creates an identity matrix.\n"
      ]
    },
    {
      "cell_type": "code",
      "execution_count": 113,
      "metadata": {
        "colab": {
          "base_uri": "https://localhost:8080/"
        },
        "id": "Qcq0qDcW8OqI",
        "outputId": "1400c84c-dab7-4a6e-95c3-9716095243c7"
      },
      "outputs": [
        {
          "output_type": "execute_result",
          "data": {
            "text/plain": [
              "array([[1., 0., 0.],\n",
              "       [0., 1., 0.],\n",
              "       [0., 0., 1.]])"
            ]
          },
          "metadata": {},
          "execution_count": 113
        }
      ],
      "source": [
        "# generate a identity matrix\n",
        "np.eye(3)"
      ]
    },
    {
      "cell_type": "code",
      "execution_count": 114,
      "metadata": {
        "colab": {
          "base_uri": "https://localhost:8080/"
        },
        "id": "P2ziUcvH8OjT",
        "outputId": "f8d4ab5e-280c-4c71-a341-bc4251509bc6"
      },
      "outputs": [
        {
          "output_type": "execute_result",
          "data": {
            "text/plain": [
              "array([[1., 0., 0., 0., 0.],\n",
              "       [0., 1., 0., 0., 0.],\n",
              "       [0., 0., 1., 0., 0.],\n",
              "       [0., 0., 0., 1., 0.],\n",
              "       [0., 0., 0., 0., 1.]])"
            ]
          },
          "metadata": {},
          "execution_count": 114
        }
      ],
      "source": [
        "# generate a identity matrix in matrix form\n",
        "np.eye(5,5)   #like 5 rows and 5 columns"
      ]
    },
    {
      "cell_type": "markdown",
      "metadata": {
        "id": "Mum4YRl37k0J"
      },
      "source": [
        "# Random\n",
        "  * Numpy also has lots of ways to create random number arrays:\n",
        "  # rand () \n",
        "    * it only cover uniform ditribution the value might be uniform in 0.\n",
        "    * create an array of the given shape and populate it with random samples from a uniform distribution over[0,1]."
      ]
    },
    {
      "cell_type": "code",
      "execution_count": 115,
      "metadata": {
        "colab": {
          "base_uri": "https://localhost:8080/"
        },
        "id": "rlpKfdbZ8Oa_",
        "outputId": "289633ca-df2a-45b9-a10e-79ab9e9a9fa8"
      },
      "outputs": [
        {
          "output_type": "execute_result",
          "data": {
            "text/plain": [
              "array([0.1468793, 0.3388806])"
            ]
          },
          "metadata": {},
          "execution_count": 115
        }
      ],
      "source": [
        "# generate random number in array.\n",
        "np.random.rand(2)"
      ]
    },
    {
      "cell_type": "code",
      "execution_count": 116,
      "metadata": {
        "colab": {
          "base_uri": "https://localhost:8080/"
        },
        "id": "Wf9nbAT48OWH",
        "outputId": "dfd60142-ed5b-4d23-fffe-6882826148cf"
      },
      "outputs": [
        {
          "output_type": "execute_result",
          "data": {
            "text/plain": [
              "array([[0.38109611, 0.92138997, 0.21798846],\n",
              "       [0.99626535, 0.16860372, 0.87601416],\n",
              "       [0.79393021, 0.38160169, 0.83228938]])"
            ]
          },
          "metadata": {},
          "execution_count": 116
        }
      ],
      "source": [
        "# generate random number in matrix format.\n",
        "np.random.rand(3,3)"
      ]
    },
    {
      "cell_type": "markdown",
      "metadata": {
        "id": "e7_QGKh69omr"
      },
      "source": [
        "# randn\n",
        "  * it cover only normal ditribution from value might be 0 and 1.\n",
        "  * Return a sample (or samples) from the \"standard normal\" distribution. Unlike rand which is uniform:\n"
      ]
    },
    {
      "cell_type": "code",
      "execution_count": 117,
      "metadata": {
        "colab": {
          "base_uri": "https://localhost:8080/"
        },
        "id": "purdjnZy8ORH",
        "outputId": "fdf95384-f191-4f70-e34a-d8637e4ba735"
      },
      "outputs": [
        {
          "output_type": "execute_result",
          "data": {
            "text/plain": [
              "array([ 0.12099078, -0.18245663])"
            ]
          },
          "metadata": {},
          "execution_count": 117
        }
      ],
      "source": [
        "# like wise same for randn in rand like\n",
        "np.random.randn(2)   #use this fun randn()"
      ]
    },
    {
      "cell_type": "code",
      "execution_count": 118,
      "metadata": {
        "colab": {
          "base_uri": "https://localhost:8080/"
        },
        "id": "48gXCTAU8OMu",
        "outputId": "4ce0502d-895a-471c-d51a-3f7ccd367b09"
      },
      "outputs": [
        {
          "output_type": "execute_result",
          "data": {
            "text/plain": [
              "array([[ 0.11443886, -1.04222301,  0.69532503, -0.5165728 , -0.11248981],\n",
              "       [ 0.2066307 ,  0.53328035, -1.44173545,  0.31632138,  0.27485668],\n",
              "       [ 1.27477325,  1.69021442,  2.34010912,  1.96573797, -1.37394449],\n",
              "       [ 0.3695191 ,  0.47095702, -1.81789607,  0.85270608,  0.93253386],\n",
              "       [ 0.54865504, -1.24157802,  0.13632516, -0.98265397,  0.59598697]])"
            ]
          },
          "metadata": {},
          "execution_count": 118
        }
      ],
      "source": [
        "# generate a matrix form.\n",
        "np.random.randn(5,5)"
      ]
    },
    {
      "cell_type": "markdown",
      "metadata": {
        "id": "Cj-BaGoxCar0"
      },
      "source": [
        "# randint\n",
        "  * is random integer value is given.\n",
        "  * return random integer from low (inclusive) to high (exclusive)."
      ]
    },
    {
      "cell_type": "code",
      "execution_count": 119,
      "metadata": {
        "colab": {
          "base_uri": "https://localhost:8080/"
        },
        "id": "RwvV5wtK8OI2",
        "outputId": "53ec09ca-3a8f-4f64-8ef6-90ad4b50c245"
      },
      "outputs": [
        {
          "output_type": "execute_result",
          "data": {
            "text/plain": [
              "2"
            ]
          },
          "metadata": {},
          "execution_count": 119
        }
      ],
      "source": [
        "# gennerate a random value in particular range val\n",
        "np.random.randint(1,6) #this used some games"
      ]
    },
    {
      "cell_type": "code",
      "source": [
        "np.random.randint(1,100)"
      ],
      "metadata": {
        "colab": {
          "base_uri": "https://localhost:8080/"
        },
        "id": "Zp7I7IA5TF11",
        "outputId": "85560acd-6574-4c27-cde2-6db8ad105660"
      },
      "execution_count": 120,
      "outputs": [
        {
          "output_type": "execute_result",
          "data": {
            "text/plain": [
              "27"
            ]
          },
          "metadata": {},
          "execution_count": 120
        }
      ]
    },
    {
      "cell_type": "code",
      "execution_count": 121,
      "metadata": {
        "id": "TVaBlIdR8ODX",
        "colab": {
          "base_uri": "https://localhost:8080/"
        },
        "outputId": "d4c57cdb-4af8-4d57-de96-ca4d7c3e7aed"
      },
      "outputs": [
        {
          "output_type": "execute_result",
          "data": {
            "text/plain": [
              "array([1, 3, 3, 1, 3, 1, 3, 4, 1, 3])"
            ]
          },
          "metadata": {},
          "execution_count": 121
        }
      ],
      "source": [
        "# generate a random 10 value in particular range\n",
        "np.random.randint(1,5,10) #this the value inthe step interval"
      ]
    },
    {
      "cell_type": "code",
      "source": [
        "np.random.randint(1,100,10)"
      ],
      "metadata": {
        "colab": {
          "base_uri": "https://localhost:8080/"
        },
        "id": "Sh1Z-7R9RQox",
        "outputId": "7ef7f350-3c73-4b88-d64c-4ddc3651bf3d"
      },
      "execution_count": 122,
      "outputs": [
        {
          "output_type": "execute_result",
          "data": {
            "text/plain": [
              "array([79, 66, 75, 22,  2, 95, 72, 18, 44, 93])"
            ]
          },
          "metadata": {},
          "execution_count": 122
        }
      ]
    },
    {
      "cell_type": "markdown",
      "source": [
        "# Array Attributes and Methods\n",
        "  * Let's discuss some useful attributes and methods or an array."
      ],
      "metadata": {
        "id": "kOA6l_cZUGdI"
      }
    },
    {
      "cell_type": "code",
      "source": [
        "arr = np.arange(25)\n",
        "ranarr = np.random.randint(1,50,10)"
      ],
      "metadata": {
        "id": "sdhtDDpRRQfM"
      },
      "execution_count": 123,
      "outputs": []
    },
    {
      "cell_type": "code",
      "source": [
        "arr"
      ],
      "metadata": {
        "colab": {
          "base_uri": "https://localhost:8080/"
        },
        "id": "GrTBDqhTRQad",
        "outputId": "5d5effd2-bac5-4363-a1a8-56f2c0fbc31d"
      },
      "execution_count": 124,
      "outputs": [
        {
          "output_type": "execute_result",
          "data": {
            "text/plain": [
              "array([ 0,  1,  2,  3,  4,  5,  6,  7,  8,  9, 10, 11, 12, 13, 14, 15, 16,\n",
              "       17, 18, 19, 20, 21, 22, 23, 24])"
            ]
          },
          "metadata": {},
          "execution_count": 124
        }
      ]
    },
    {
      "cell_type": "code",
      "source": [
        "ranarr"
      ],
      "metadata": {
        "colab": {
          "base_uri": "https://localhost:8080/"
        },
        "id": "Z11jQIVgRQVR",
        "outputId": "143167e1-65c8-4fe6-c90c-e8d8928abcec"
      },
      "execution_count": 125,
      "outputs": [
        {
          "output_type": "execute_result",
          "data": {
            "text/plain": [
              "array([10, 15, 37, 47,  1, 47, 11, 44, 38, 35])"
            ]
          },
          "metadata": {},
          "execution_count": 125
        }
      ]
    },
    {
      "cell_type": "markdown",
      "source": [
        "# Reshape\n",
        "  * In Pandas data reshaping means the transformation of the structure of a table or vector (i.e. DataFrame or Series) to make it suitable for further analysis\n",
        "  * returns an array containing the same data with a new shape."
      ],
      "metadata": {
        "id": "--iiXVnkYYHI"
      }
    },
    {
      "cell_type": "code",
      "source": [
        "arr.shape # how many value inthe array like count"
      ],
      "metadata": {
        "colab": {
          "base_uri": "https://localhost:8080/"
        },
        "id": "aabtA40tRQPQ",
        "outputId": "1052e582-e780-4abf-e6c1-bbc1d0ce22ce"
      },
      "execution_count": 126,
      "outputs": [
        {
          "output_type": "execute_result",
          "data": {
            "text/plain": [
              "(25,)"
            ]
          },
          "metadata": {},
          "execution_count": 126
        }
      ]
    },
    {
      "cell_type": "code",
      "source": [
        "ranarr.shape"
      ],
      "metadata": {
        "colab": {
          "base_uri": "https://localhost:8080/"
        },
        "id": "PauNHBjsRQKE",
        "outputId": "59b47767-400b-4e8a-86fd-2bb96d025eed"
      },
      "execution_count": 127,
      "outputs": [
        {
          "output_type": "execute_result",
          "data": {
            "text/plain": [
              "(10,)"
            ]
          },
          "metadata": {},
          "execution_count": 127
        }
      ]
    },
    {
      "cell_type": "code",
      "source": [
        "# generate the value reshape inthe arr \n",
        "arr.reshape(5,5)"
      ],
      "metadata": {
        "colab": {
          "base_uri": "https://localhost:8080/"
        },
        "id": "7onOHylwRQCS",
        "outputId": "f0911435-4037-4c5b-bdc4-8b57c5b66434"
      },
      "execution_count": 128,
      "outputs": [
        {
          "output_type": "execute_result",
          "data": {
            "text/plain": [
              "array([[ 0,  1,  2,  3,  4],\n",
              "       [ 5,  6,  7,  8,  9],\n",
              "       [10, 11, 12, 13, 14],\n",
              "       [15, 16, 17, 18, 19],\n",
              "       [20, 21, 22, 23, 24]])"
            ]
          },
          "metadata": {},
          "execution_count": 128
        }
      ]
    },
    {
      "cell_type": "markdown",
      "source": [
        "# max,min,argmax,argmin\n",
        "  * These are useful methods for finding max or min values. Or to find their index locations using argmin or argmax."
      ],
      "metadata": {
        "id": "7wbCFPEQhUQU"
      }
    },
    {
      "cell_type": "code",
      "source": [
        "ranarr"
      ],
      "metadata": {
        "colab": {
          "base_uri": "https://localhost:8080/"
        },
        "id": "xQV__5RnRP5q",
        "outputId": "b0872a2e-8421-49b9-b02e-1b25ff6512fc"
      },
      "execution_count": 129,
      "outputs": [
        {
          "output_type": "execute_result",
          "data": {
            "text/plain": [
              "array([10, 15, 37, 47,  1, 47, 11, 44, 38, 35])"
            ]
          },
          "metadata": {},
          "execution_count": 129
        }
      ]
    },
    {
      "cell_type": "code",
      "source": [
        "# find max in the ranarr\n",
        "ranarr.max()"
      ],
      "metadata": {
        "colab": {
          "base_uri": "https://localhost:8080/"
        },
        "id": "ChsciyARRPzy",
        "outputId": "4e15c931-8ddd-40e5-dbbf-45b40687834c"
      },
      "execution_count": 130,
      "outputs": [
        {
          "output_type": "execute_result",
          "data": {
            "text/plain": [
              "47"
            ]
          },
          "metadata": {},
          "execution_count": 130
        }
      ]
    },
    {
      "cell_type": "code",
      "source": [
        "# find min in the ranarr\n",
        "ranarr.min()"
      ],
      "metadata": {
        "colab": {
          "base_uri": "https://localhost:8080/"
        },
        "id": "0vECcKYLh3Tc",
        "outputId": "cb46cb18-9bb5-4982-a557-b4e9fc580058"
      },
      "execution_count": 131,
      "outputs": [
        {
          "output_type": "execute_result",
          "data": {
            "text/plain": [
              "1"
            ]
          },
          "metadata": {},
          "execution_count": 131
        }
      ]
    },
    {
      "cell_type": "code",
      "source": [
        "# find argmin in the ranarr\n",
        "ranarr.argmax() # wch position the max value is here index value positionhi"
      ],
      "metadata": {
        "colab": {
          "base_uri": "https://localhost:8080/"
        },
        "id": "2b1ZNdo1h3Nh",
        "outputId": "a8df7370-1e40-44b3-bbfe-2968ca2e8fc4"
      },
      "execution_count": 132,
      "outputs": [
        {
          "output_type": "execute_result",
          "data": {
            "text/plain": [
              "3"
            ]
          },
          "metadata": {},
          "execution_count": 132
        }
      ]
    },
    {
      "cell_type": "code",
      "source": [
        "# find argmin()\n",
        "ranarr.argmin()"
      ],
      "metadata": {
        "colab": {
          "base_uri": "https://localhost:8080/"
        },
        "id": "dUfcXXN6i5Sx",
        "outputId": "69cf1b0e-5552-491f-d52d-58767215b383"
      },
      "execution_count": 133,
      "outputs": [
        {
          "output_type": "execute_result",
          "data": {
            "text/plain": [
              "4"
            ]
          },
          "metadata": {},
          "execution_count": 133
        }
      ]
    },
    {
      "cell_type": "markdown",
      "source": [
        "# Shape\n",
        "  * Shape is an attribute that arrays have (not a method):\n",
        "\n",
        "\n"
      ],
      "metadata": {
        "id": "nnWtw0sSk02P"
      }
    },
    {
      "cell_type": "code",
      "source": [
        "#vector \n",
        "arr.shape"
      ],
      "metadata": {
        "colab": {
          "base_uri": "https://localhost:8080/"
        },
        "id": "sLA0aRo9h3H9",
        "outputId": "cb56c0a9-5a41-47dd-d8a3-7905feda9e85"
      },
      "execution_count": 134,
      "outputs": [
        {
          "output_type": "execute_result",
          "data": {
            "text/plain": [
              "(25,)"
            ]
          },
          "metadata": {},
          "execution_count": 134
        }
      ]
    },
    {
      "cell_type": "code",
      "source": [
        "# Notice the two sets of brackets\n",
        "arr.reshape(1,25)"
      ],
      "metadata": {
        "colab": {
          "base_uri": "https://localhost:8080/"
        },
        "id": "Iab9pdrYh240",
        "outputId": "de6c389b-4cf9-4266-ff80-df8b6a541cc1"
      },
      "execution_count": 135,
      "outputs": [
        {
          "output_type": "execute_result",
          "data": {
            "text/plain": [
              "array([[ 0,  1,  2,  3,  4,  5,  6,  7,  8,  9, 10, 11, 12, 13, 14, 15,\n",
              "        16, 17, 18, 19, 20, 21, 22, 23, 24]])"
            ]
          },
          "metadata": {},
          "execution_count": 135
        }
      ]
    },
    {
      "cell_type": "code",
      "source": [
        "# reshpe check in the shape\n",
        "arr.reshape(1,25).shape"
      ],
      "metadata": {
        "colab": {
          "base_uri": "https://localhost:8080/"
        },
        "id": "AmUrP7Yqh21b",
        "outputId": "344fda7f-ffc8-4621-ed2b-d8d1350df34d"
      },
      "execution_count": 136,
      "outputs": [
        {
          "output_type": "execute_result",
          "data": {
            "text/plain": [
              "(1, 25)"
            ]
          },
          "metadata": {},
          "execution_count": 136
        }
      ]
    },
    {
      "cell_type": "code",
      "source": [
        "# to vale change in th arr\n",
        "arr.reshape(25,1)"
      ],
      "metadata": {
        "colab": {
          "base_uri": "https://localhost:8080/"
        },
        "id": "hWl9eCNlh2xH",
        "outputId": "5707fd55-47a1-4c34-c68d-150d6639a356"
      },
      "execution_count": 137,
      "outputs": [
        {
          "output_type": "execute_result",
          "data": {
            "text/plain": [
              "array([[ 0],\n",
              "       [ 1],\n",
              "       [ 2],\n",
              "       [ 3],\n",
              "       [ 4],\n",
              "       [ 5],\n",
              "       [ 6],\n",
              "       [ 7],\n",
              "       [ 8],\n",
              "       [ 9],\n",
              "       [10],\n",
              "       [11],\n",
              "       [12],\n",
              "       [13],\n",
              "       [14],\n",
              "       [15],\n",
              "       [16],\n",
              "       [17],\n",
              "       [18],\n",
              "       [19],\n",
              "       [20],\n",
              "       [21],\n",
              "       [22],\n",
              "       [23],\n",
              "       [24]])"
            ]
          },
          "metadata": {},
          "execution_count": 137
        }
      ]
    },
    {
      "cell_type": "code",
      "source": [
        "# check the shape in the reshape\n",
        "arr.reshape(25,1).shape"
      ],
      "metadata": {
        "colab": {
          "base_uri": "https://localhost:8080/"
        },
        "id": "1-ZpT_JFh2r7",
        "outputId": "75fd691f-a2a7-4646-e89a-5bbcfabd3d0e"
      },
      "execution_count": 138,
      "outputs": [
        {
          "output_type": "execute_result",
          "data": {
            "text/plain": [
              "(25, 1)"
            ]
          },
          "metadata": {},
          "execution_count": 138
        }
      ]
    },
    {
      "cell_type": "markdown",
      "source": [
        "# dtype\n",
        "  * You can also grab the data type of the object in the array."
      ],
      "metadata": {
        "id": "CvBUUmZw5wW_"
      }
    },
    {
      "cell_type": "code",
      "source": [
        "arr.dtype"
      ],
      "metadata": {
        "colab": {
          "base_uri": "https://localhost:8080/"
        },
        "id": "Iz3yMkH6h2lV",
        "outputId": "a88069ff-e6e8-4327-8c89-d4de8e5faf53"
      },
      "execution_count": 139,
      "outputs": [
        {
          "output_type": "execute_result",
          "data": {
            "text/plain": [
              "dtype('int64')"
            ]
          },
          "metadata": {},
          "execution_count": 139
        }
      ]
    },
    {
      "cell_type": "code",
      "source": [
        "# like the value inthe what type of data type \n",
        "a = [2.3,4.5]\n",
        "a = np.array(a)"
      ],
      "metadata": {
        "id": "OJK3tJEeh2gK"
      },
      "execution_count": 140,
      "outputs": []
    },
    {
      "cell_type": "code",
      "source": [
        "a.dtype"
      ],
      "metadata": {
        "colab": {
          "base_uri": "https://localhost:8080/"
        },
        "id": "wBOsz10_7WY7",
        "outputId": "3c0448b9-65e5-421e-c3e0-01c71094df75"
      },
      "execution_count": 141,
      "outputs": [
        {
          "output_type": "execute_result",
          "data": {
            "text/plain": [
              "dtype('float64')"
            ]
          },
          "metadata": {},
          "execution_count": 141
        }
      ]
    },
    {
      "cell_type": "markdown",
      "source": [
        "# Numpy indexing and selection\n",
        "  * in this lecture we will discuss how tho select elements or groups of elements from an array."
      ],
      "metadata": {
        "id": "kB436hjs9EcK"
      }
    },
    {
      "cell_type": "code",
      "source": [
        "import numpy as np"
      ],
      "metadata": {
        "id": "fCv3kqqt9B-l"
      },
      "execution_count": 142,
      "outputs": []
    },
    {
      "cell_type": "code",
      "source": [
        "# creating sample array\n",
        "arr = np.arange(0,11)"
      ],
      "metadata": {
        "id": "MogOVz0E9B49"
      },
      "execution_count": 143,
      "outputs": []
    },
    {
      "cell_type": "code",
      "source": [
        "#display the arr value\n",
        "arr"
      ],
      "metadata": {
        "colab": {
          "base_uri": "https://localhost:8080/"
        },
        "id": "EffCNS3W9Bzy",
        "outputId": "4f557d4c-d984-48c3-ec06-d9acc9eee79c"
      },
      "execution_count": 144,
      "outputs": [
        {
          "output_type": "execute_result",
          "data": {
            "text/plain": [
              "array([ 0,  1,  2,  3,  4,  5,  6,  7,  8,  9, 10])"
            ]
          },
          "metadata": {},
          "execution_count": 144
        }
      ]
    },
    {
      "cell_type": "markdown",
      "source": [
        "# Bracket Indexing and Selection\n",
        "  * The simplest way to pick one or some elements of an array looks very similar to python lists:"
      ],
      "metadata": {
        "id": "9ce5lxqgNyPQ"
      }
    },
    {
      "cell_type": "code",
      "source": [
        "# slicing the value inthe get value at an index \n",
        "arr[2]  # using normal form"
      ],
      "metadata": {
        "id": "pcfK13Sl9Br0",
        "colab": {
          "base_uri": "https://localhost:8080/"
        },
        "outputId": "fe1b9812-d224-49d3-8481-cea772e533d1"
      },
      "execution_count": 145,
      "outputs": [
        {
          "output_type": "execute_result",
          "data": {
            "text/plain": [
              "2"
            ]
          },
          "metadata": {},
          "execution_count": 145
        }
      ]
    },
    {
      "cell_type": "code",
      "source": [
        "# normal value inthe python slicing \n",
        "# get values in a range\n",
        "arr[1:5]"
      ],
      "metadata": {
        "id": "OFLKLgOL9BeU",
        "colab": {
          "base_uri": "https://localhost:8080/"
        },
        "outputId": "533ab97b-d363-48d5-b4d5-091f1cf7af51"
      },
      "execution_count": 146,
      "outputs": [
        {
          "output_type": "execute_result",
          "data": {
            "text/plain": [
              "array([1, 2, 3, 4])"
            ]
          },
          "metadata": {},
          "execution_count": 146
        }
      ]
    },
    {
      "cell_type": "code",
      "source": [
        "# get value in a range \n",
        "arr[0:5]"
      ],
      "metadata": {
        "id": "bvPa-XRd9BaG",
        "colab": {
          "base_uri": "https://localhost:8080/"
        },
        "outputId": "d39f2b6e-bbb0-49f8-d97e-ca917ada0a19"
      },
      "execution_count": 147,
      "outputs": [
        {
          "output_type": "execute_result",
          "data": {
            "text/plain": [
              "array([0, 1, 2, 3, 4])"
            ]
          },
          "metadata": {},
          "execution_count": 147
        }
      ]
    },
    {
      "cell_type": "markdown",
      "source": [
        "# Broadcasting\n",
        "  * Numpy arrays differ from a normal Python list because of their ability to broadcast:"
      ],
      "metadata": {
        "id": "X8XmSQiFQBh4"
      }
    },
    {
      "cell_type": "code",
      "source": [
        "# setting a value with index range (broadcasting)\n",
        "arr[0:5] = 100 #the assign value inthe 100\n",
        "arr # show array vanthu fulla maritum maripuditum \n",
        "#reset pannnum numpyt main mistake."
      ],
      "metadata": {
        "id": "t7v1ZUQ49BUJ",
        "colab": {
          "base_uri": "https://localhost:8080/"
        },
        "outputId": "4f79af34-bb99-4f53-c7bf-babeb9e75c7b"
      },
      "execution_count": 148,
      "outputs": [
        {
          "output_type": "execute_result",
          "data": {
            "text/plain": [
              "array([100, 100, 100, 100, 100,   5,   6,   7,   8,   9,  10])"
            ]
          },
          "metadata": {},
          "execution_count": 148
        }
      ]
    },
    {
      "cell_type": "code",
      "source": [
        "arr[:]=100  # full value inthe point \n",
        "arr"
      ],
      "metadata": {
        "colab": {
          "base_uri": "https://localhost:8080/"
        },
        "id": "2RZRrVotzGpa",
        "outputId": "3f1a1424-04a8-4ab3-e210-afa284bca588"
      },
      "execution_count": 149,
      "outputs": [
        {
          "output_type": "execute_result",
          "data": {
            "text/plain": [
              "array([100, 100, 100, 100, 100, 100, 100, 100, 100, 100, 100])"
            ]
          },
          "metadata": {},
          "execution_count": 149
        }
      ]
    },
    {
      "cell_type": "code",
      "source": [
        "# reset array,well see ehy i had to reset in a moment\n",
        "arr = np.arange(0,11)\n",
        "arr"
      ],
      "metadata": {
        "id": "XIV5_CFD9BOf",
        "colab": {
          "base_uri": "https://localhost:8080/"
        },
        "outputId": "bee9a4d0-972f-43d1-dbd5-aeb2d4246778"
      },
      "execution_count": 150,
      "outputs": [
        {
          "output_type": "execute_result",
          "data": {
            "text/plain": [
              "array([ 0,  1,  2,  3,  4,  5,  6,  7,  8,  9, 10])"
            ]
          },
          "metadata": {},
          "execution_count": 150
        }
      ]
    },
    {
      "cell_type": "code",
      "source": [
        "# diff slice doing \n",
        "s = arr[0:5].copy() #arr  slice copy is stored in s "
      ],
      "metadata": {
        "id": "o_nLCKwy9BKV"
      },
      "execution_count": 151,
      "outputs": []
    },
    {
      "cell_type": "code",
      "source": [
        "s"
      ],
      "metadata": {
        "id": "8REo0p_M9BFI",
        "colab": {
          "base_uri": "https://localhost:8080/"
        },
        "outputId": "6e9d01d8-7b7e-4ed5-c638-5e522b4fb51f"
      },
      "execution_count": 152,
      "outputs": [
        {
          "output_type": "execute_result",
          "data": {
            "text/plain": [
              "array([0, 1, 2, 3, 4])"
            ]
          },
          "metadata": {},
          "execution_count": 152
        }
      ]
    },
    {
      "cell_type": "code",
      "source": [
        "s[:]= 99  # arr copy irrukku s la s = arr copy\n",
        "s"
      ],
      "metadata": {
        "id": "wh3fcIDs9A_K",
        "colab": {
          "base_uri": "https://localhost:8080/"
        },
        "outputId": "70287afb-f433-4e42-b447-381e68305905"
      },
      "execution_count": 153,
      "outputs": [
        {
          "output_type": "execute_result",
          "data": {
            "text/plain": [
              "array([99, 99, 99, 99, 99])"
            ]
          },
          "metadata": {},
          "execution_count": 153
        }
      ]
    },
    {
      "cell_type": "code",
      "source": [
        "arr"
      ],
      "metadata": {
        "id": "Aoso9KUc9A6M",
        "colab": {
          "base_uri": "https://localhost:8080/"
        },
        "outputId": "5096e301-c3d7-44b9-f42a-2d31724b3946"
      },
      "execution_count": 154,
      "outputs": [
        {
          "output_type": "execute_result",
          "data": {
            "text/plain": [
              "array([ 0,  1,  2,  3,  4,  5,  6,  7,  8,  9, 10])"
            ]
          },
          "metadata": {},
          "execution_count": 154
        }
      ]
    },
    {
      "cell_type": "markdown",
      "source": [
        "# Indexing a 2D array (matrices)\n",
        "  * how 2d array index pandrathu.\n",
        "  * The general format is arr_2d[row][col] or arr_2d[row,col]. I recommend usually using the comma notation for clarity."
      ],
      "metadata": {
        "id": "jOx3EP3r2qgr"
      }
    },
    {
      "cell_type": "code",
      "source": [
        "# create matrix\n",
        "mat2 = np.array([\n",
        "   [1,2,3], # 0 th row \n",
        "   [4,5,6], # 1 th row\n",
        "   [7,8,9]   # 2 th row           \n",
        "])"
      ],
      "metadata": {
        "id": "5hZQeO4s9A1F"
      },
      "execution_count": 155,
      "outputs": []
    },
    {
      "cell_type": "code",
      "source": [
        "mat2.shape #view shape"
      ],
      "metadata": {
        "id": "KCTNXuQt9Au_",
        "colab": {
          "base_uri": "https://localhost:8080/"
        },
        "outputId": "f019efc9-35fe-4201-a95e-b8d428e09603"
      },
      "execution_count": 156,
      "outputs": [
        {
          "output_type": "execute_result",
          "data": {
            "text/plain": [
              "(3, 3)"
            ]
          },
          "metadata": {},
          "execution_count": 156
        }
      ]
    },
    {
      "cell_type": "code",
      "source": [
        "# 2d matrix slice panna porom \n",
        "mat2[0]  # view first row "
      ],
      "metadata": {
        "id": "NYz7UAw09Aq1",
        "colab": {
          "base_uri": "https://localhost:8080/"
        },
        "outputId": "a9f42144-1919-458c-d1f0-5f7999fb690b"
      },
      "execution_count": 157,
      "outputs": [
        {
          "output_type": "execute_result",
          "data": {
            "text/plain": [
              "array([1, 2, 3])"
            ]
          },
          "metadata": {},
          "execution_count": 157
        }
      ]
    },
    {
      "cell_type": "code",
      "source": [
        "# slicing one coumn and one row in particular\n",
        "mat2[1][1] # like wise first row first column"
      ],
      "metadata": {
        "id": "SmAxtqj_9AmT",
        "colab": {
          "base_uri": "https://localhost:8080/"
        },
        "outputId": "4cfedd6f-4528-4cb6-876f-7af5d75232e3"
      },
      "execution_count": 158,
      "outputs": [
        {
          "output_type": "execute_result",
          "data": {
            "text/plain": [
              "5"
            ]
          },
          "metadata": {},
          "execution_count": 158
        }
      ]
    },
    {
      "cell_type": "code",
      "source": [
        "# simple another way\n",
        "mat2[1,1]  # same value"
      ],
      "metadata": {
        "id": "dIq5YOnS9AgF",
        "colab": {
          "base_uri": "https://localhost:8080/"
        },
        "outputId": "76b9bcdc-d791-4662-8381-44829c97b2af"
      },
      "execution_count": 159,
      "outputs": [
        {
          "output_type": "execute_result",
          "data": {
            "text/plain": [
              "5"
            ]
          },
          "metadata": {},
          "execution_count": 159
        }
      ]
    },
    {
      "cell_type": "code",
      "source": [
        "mat2"
      ],
      "metadata": {
        "colab": {
          "base_uri": "https://localhost:8080/"
        },
        "id": "iR13_FBv7XXH",
        "outputId": "061d53c4-fd27-4f61-ffdd-b43c93f66bed"
      },
      "execution_count": 160,
      "outputs": [
        {
          "output_type": "execute_result",
          "data": {
            "text/plain": [
              "array([[1, 2, 3],\n",
              "       [4, 5, 6],\n",
              "       [7, 8, 9]])"
            ]
          },
          "metadata": {},
          "execution_count": 160
        }
      ]
    },
    {
      "cell_type": "code",
      "source": [
        "# now slice inthe matrix format\n",
        "mat2[1:,1:] # first row start and end then\n",
        "# firs coumn and end of all coulum .\n"
      ],
      "metadata": {
        "id": "nBoPDTyY9Abu",
        "colab": {
          "base_uri": "https://localhost:8080/"
        },
        "outputId": "1c08a478-33f2-4030-82b3-af2a7627db42"
      },
      "execution_count": 161,
      "outputs": [
        {
          "output_type": "execute_result",
          "data": {
            "text/plain": [
              "array([[5, 6],\n",
              "       [8, 9]])"
            ]
          },
          "metadata": {},
          "execution_count": 161
        }
      ]
    },
    {
      "cell_type": "code",
      "source": [
        "mat2[1:,:] #first row and all column"
      ],
      "metadata": {
        "id": "vQmRum5z9AVY",
        "colab": {
          "base_uri": "https://localhost:8080/"
        },
        "outputId": "f7eac76e-4a89-4652-cb20-a1dba2593ce4"
      },
      "execution_count": 162,
      "outputs": [
        {
          "output_type": "execute_result",
          "data": {
            "text/plain": [
              "array([[4, 5, 6],\n",
              "       [7, 8, 9]])"
            ]
          },
          "metadata": {},
          "execution_count": 162
        }
      ]
    },
    {
      "cell_type": "code",
      "source": [
        "mat2[1][0]"
      ],
      "metadata": {
        "id": "-YCpJo6y9AJU",
        "colab": {
          "base_uri": "https://localhost:8080/"
        },
        "outputId": "5e160f05-fd51-489c-bee2-366cdbaae5ac"
      },
      "execution_count": 163,
      "outputs": [
        {
          "output_type": "execute_result",
          "data": {
            "text/plain": [
              "4"
            ]
          },
          "metadata": {},
          "execution_count": 163
        }
      ]
    },
    {
      "cell_type": "code",
      "source": [
        "mat2[:2,1:]"
      ],
      "metadata": {
        "id": "y_Q1cSyL9AEE",
        "colab": {
          "base_uri": "https://localhost:8080/"
        },
        "outputId": "26ccdf0b-345f-4fdf-83f6-16aa3ed9c1c7"
      },
      "execution_count": 164,
      "outputs": [
        {
          "output_type": "execute_result",
          "data": {
            "text/plain": [
              "array([[2, 3],\n",
              "       [5, 6]])"
            ]
          },
          "metadata": {},
          "execution_count": 164
        }
      ]
    },
    {
      "cell_type": "code",
      "source": [
        "mat2[:,2]"
      ],
      "metadata": {
        "id": "7RbTljBs8_9-",
        "colab": {
          "base_uri": "https://localhost:8080/"
        },
        "outputId": "55404807-8d58-4cfd-e4fc-b1e1968481c4"
      },
      "execution_count": 165,
      "outputs": [
        {
          "output_type": "execute_result",
          "data": {
            "text/plain": [
              "array([3, 6, 9])"
            ]
          },
          "metadata": {},
          "execution_count": 165
        }
      ]
    },
    {
      "cell_type": "code",
      "source": [
        "arr_2d = np.array(([5,10,15],[20,25,30],[35,40,45]))\n",
        "\n",
        "#Show\n",
        "arr_2d"
      ],
      "metadata": {
        "id": "niDZY7jD8_4p",
        "colab": {
          "base_uri": "https://localhost:8080/"
        },
        "outputId": "80fcf0f0-f5aa-43f8-9994-813389b1ceb4"
      },
      "execution_count": 166,
      "outputs": [
        {
          "output_type": "execute_result",
          "data": {
            "text/plain": [
              "array([[ 5, 10, 15],\n",
              "       [20, 25, 30],\n",
              "       [35, 40, 45]])"
            ]
          },
          "metadata": {},
          "execution_count": 166
        }
      ]
    },
    {
      "cell_type": "code",
      "source": [
        "#Indexing row\n",
        "arr_2d[1]"
      ],
      "metadata": {
        "colab": {
          "base_uri": "https://localhost:8080/"
        },
        "id": "HKdCKshRKOeE",
        "outputId": "a2dfa8c2-1b9c-41a7-bc2c-3c049210ccea"
      },
      "execution_count": 167,
      "outputs": [
        {
          "output_type": "execute_result",
          "data": {
            "text/plain": [
              "array([20, 25, 30])"
            ]
          },
          "metadata": {},
          "execution_count": 167
        }
      ]
    },
    {
      "cell_type": "code",
      "source": [
        "# Format is arr_2d[row][col] or arr_2d[row,col]\n",
        "\n",
        "# Getting individual element value\n",
        "arr_2d[1][0]"
      ],
      "metadata": {
        "colab": {
          "base_uri": "https://localhost:8080/"
        },
        "id": "4zF1b-bTKOZW",
        "outputId": "acb39209-a65c-476c-ec54-05d3bc3b222b"
      },
      "execution_count": 168,
      "outputs": [
        {
          "output_type": "execute_result",
          "data": {
            "text/plain": [
              "20"
            ]
          },
          "metadata": {},
          "execution_count": 168
        }
      ]
    },
    {
      "cell_type": "code",
      "source": [
        "# Getting individual element value\n",
        "arr_2d[1,0]"
      ],
      "metadata": {
        "colab": {
          "base_uri": "https://localhost:8080/"
        },
        "id": "QnF3bEg6KOVB",
        "outputId": "efc04c26-003f-476f-baca-9377e3bb5eb7"
      },
      "execution_count": 169,
      "outputs": [
        {
          "output_type": "execute_result",
          "data": {
            "text/plain": [
              "20"
            ]
          },
          "metadata": {},
          "execution_count": 169
        }
      ]
    },
    {
      "cell_type": "code",
      "source": [
        "# 2D array slicing\n",
        "\n",
        "#Shape (2,2) from top right corner\n",
        "arr_2d[:2,1:]"
      ],
      "metadata": {
        "colab": {
          "base_uri": "https://localhost:8080/"
        },
        "id": "WrdcGFWfKORA",
        "outputId": "42b26641-aa90-4bcd-cf7e-b1827ca3213b"
      },
      "execution_count": 170,
      "outputs": [
        {
          "output_type": "execute_result",
          "data": {
            "text/plain": [
              "array([[10, 15],\n",
              "       [25, 30]])"
            ]
          },
          "metadata": {},
          "execution_count": 170
        }
      ]
    },
    {
      "cell_type": "code",
      "source": [
        "#Shape bottom row\n",
        "arr_2d[2]"
      ],
      "metadata": {
        "colab": {
          "base_uri": "https://localhost:8080/"
        },
        "id": "eHwF00ZrKOMu",
        "outputId": "cc5965ec-3149-4afe-abc8-17f532281874"
      },
      "execution_count": 171,
      "outputs": [
        {
          "output_type": "execute_result",
          "data": {
            "text/plain": [
              "array([35, 40, 45])"
            ]
          },
          "metadata": {},
          "execution_count": 171
        }
      ]
    },
    {
      "cell_type": "code",
      "source": [
        "#Shape bottom row\n",
        "arr_2d[2,:]"
      ],
      "metadata": {
        "colab": {
          "base_uri": "https://localhost:8080/"
        },
        "id": "VoNp5eCFKODs",
        "outputId": "15f7270d-4a46-4738-f07d-6b989e549299"
      },
      "execution_count": 172,
      "outputs": [
        {
          "output_type": "execute_result",
          "data": {
            "text/plain": [
              "array([35, 40, 45])"
            ]
          },
          "metadata": {},
          "execution_count": 172
        }
      ]
    },
    {
      "cell_type": "markdown",
      "source": [
        "# fancy indexing\n",
        "  * fancy indexing like wise beauty of indexing.\n",
        "  * Fancy indexing allows you to select entire rows or columns out of order,to show this, let's quickly build out a numpy array:"
      ],
      "metadata": {
        "id": "ekyUjWQjKa2h"
      }
    },
    {
      "cell_type": "code",
      "source": [
        "#Set up matrix\n",
        "arr2d = np.zeros((10,10))"
      ],
      "metadata": {
        "id": "JG0c_qPyKN6W"
      },
      "execution_count": 173,
      "outputs": []
    },
    {
      "cell_type": "code",
      "source": [
        "arr2d"
      ],
      "metadata": {
        "colab": {
          "base_uri": "https://localhost:8080/"
        },
        "id": "59SMK-tWKNvj",
        "outputId": "18b37463-4c5d-4d31-a985-de827332e4d4"
      },
      "execution_count": 174,
      "outputs": [
        {
          "output_type": "execute_result",
          "data": {
            "text/plain": [
              "array([[0., 0., 0., 0., 0., 0., 0., 0., 0., 0.],\n",
              "       [0., 0., 0., 0., 0., 0., 0., 0., 0., 0.],\n",
              "       [0., 0., 0., 0., 0., 0., 0., 0., 0., 0.],\n",
              "       [0., 0., 0., 0., 0., 0., 0., 0., 0., 0.],\n",
              "       [0., 0., 0., 0., 0., 0., 0., 0., 0., 0.],\n",
              "       [0., 0., 0., 0., 0., 0., 0., 0., 0., 0.],\n",
              "       [0., 0., 0., 0., 0., 0., 0., 0., 0., 0.],\n",
              "       [0., 0., 0., 0., 0., 0., 0., 0., 0., 0.],\n",
              "       [0., 0., 0., 0., 0., 0., 0., 0., 0., 0.],\n",
              "       [0., 0., 0., 0., 0., 0., 0., 0., 0., 0.]])"
            ]
          },
          "metadata": {},
          "execution_count": 174
        }
      ]
    },
    {
      "cell_type": "code",
      "source": [
        "#Length of array\n",
        "arr_length = arr2d.shape[1] # like 1 means is the row"
      ],
      "metadata": {
        "id": "0v1_DcQtLCer"
      },
      "execution_count": 175,
      "outputs": []
    },
    {
      "cell_type": "code",
      "source": [
        "arr_length"
      ],
      "metadata": {
        "colab": {
          "base_uri": "https://localhost:8080/"
        },
        "id": "ZSEhkIsHLCU4",
        "outputId": "ad20c42a-1b1b-4d53-9e02-2b6f696e03ce"
      },
      "execution_count": 176,
      "outputs": [
        {
          "output_type": "execute_result",
          "data": {
            "text/plain": [
              "10"
            ]
          },
          "metadata": {},
          "execution_count": 176
        }
      ]
    },
    {
      "cell_type": "code",
      "source": [
        "# set up array\n",
        "for i in range(arr_length):\n",
        "  arr2d[i]=i\n",
        "arr2d"
      ],
      "metadata": {
        "colab": {
          "base_uri": "https://localhost:8080/"
        },
        "id": "aAWazxlnLCPj",
        "outputId": "6291a061-e244-44e8-fcc2-71757352b65a"
      },
      "execution_count": 177,
      "outputs": [
        {
          "output_type": "execute_result",
          "data": {
            "text/plain": [
              "array([[0., 0., 0., 0., 0., 0., 0., 0., 0., 0.],\n",
              "       [1., 1., 1., 1., 1., 1., 1., 1., 1., 1.],\n",
              "       [2., 2., 2., 2., 2., 2., 2., 2., 2., 2.],\n",
              "       [3., 3., 3., 3., 3., 3., 3., 3., 3., 3.],\n",
              "       [4., 4., 4., 4., 4., 4., 4., 4., 4., 4.],\n",
              "       [5., 5., 5., 5., 5., 5., 5., 5., 5., 5.],\n",
              "       [6., 6., 6., 6., 6., 6., 6., 6., 6., 6.],\n",
              "       [7., 7., 7., 7., 7., 7., 7., 7., 7., 7.],\n",
              "       [8., 8., 8., 8., 8., 8., 8., 8., 8., 8.],\n",
              "       [9., 9., 9., 9., 9., 9., 9., 9., 9., 9.]])"
            ]
          },
          "metadata": {},
          "execution_count": 177
        }
      ]
    },
    {
      "cell_type": "code",
      "source": [
        "# some order inthe array\n",
        "arr2d[[2,3,4,5]]"
      ],
      "metadata": {
        "colab": {
          "base_uri": "https://localhost:8080/"
        },
        "id": "vkIV4sbmLCLc",
        "outputId": "c37ff79f-c3db-466c-95bd-b4044c165649"
      },
      "execution_count": 178,
      "outputs": [
        {
          "output_type": "execute_result",
          "data": {
            "text/plain": [
              "array([[2., 2., 2., 2., 2., 2., 2., 2., 2., 2.],\n",
              "       [3., 3., 3., 3., 3., 3., 3., 3., 3., 3.],\n",
              "       [4., 4., 4., 4., 4., 4., 4., 4., 4., 4.],\n",
              "       [5., 5., 5., 5., 5., 5., 5., 5., 5., 5.]])"
            ]
          },
          "metadata": {},
          "execution_count": 178
        }
      ]
    },
    {
      "cell_type": "code",
      "source": [
        "arr2d[[6,4,2,7]]"
      ],
      "metadata": {
        "colab": {
          "base_uri": "https://localhost:8080/"
        },
        "id": "u0qm8WCjLCIQ",
        "outputId": "f08841a2-b2ac-488c-8004-6c3b5e348bbe"
      },
      "execution_count": 179,
      "outputs": [
        {
          "output_type": "execute_result",
          "data": {
            "text/plain": [
              "array([[6., 6., 6., 6., 6., 6., 6., 6., 6., 6.],\n",
              "       [4., 4., 4., 4., 4., 4., 4., 4., 4., 4.],\n",
              "       [2., 2., 2., 2., 2., 2., 2., 2., 2., 2.],\n",
              "       [7., 7., 7., 7., 7., 7., 7., 7., 7., 7.]])"
            ]
          },
          "metadata": {},
          "execution_count": 179
        }
      ]
    },
    {
      "cell_type": "markdown",
      "source": [
        "# Selection\n",
        "   * selection means namakku thevaiyana datava  select pandrathu.\n",
        "   * Let's briefly go over how to use brackets for selection based off of comparison operators."
      ],
      "metadata": {
        "id": "wpRdDAIzMXCf"
      }
    },
    {
      "cell_type": "code",
      "source": [
        "ar = np.arange(1,11)\n",
        "ar"
      ],
      "metadata": {
        "colab": {
          "base_uri": "https://localhost:8080/"
        },
        "id": "JfMfigHLLCCo",
        "outputId": "9f7dc0b3-8071-4a5f-f88d-4f2197bbff2b"
      },
      "execution_count": 180,
      "outputs": [
        {
          "output_type": "execute_result",
          "data": {
            "text/plain": [
              "array([ 1,  2,  3,  4,  5,  6,  7,  8,  9, 10])"
            ]
          },
          "metadata": {},
          "execution_count": 180
        }
      ]
    },
    {
      "cell_type": "code",
      "source": [
        "# conditio fix pandrom show pandrathu boolean varum\n",
        "ar > 4 # condithion wrong na false varum"
      ],
      "metadata": {
        "colab": {
          "base_uri": "https://localhost:8080/"
        },
        "id": "_kj7Mt1FNUkj",
        "outputId": "52870b4d-317e-44c6-9457-2cef3b0c25ef"
      },
      "execution_count": 181,
      "outputs": [
        {
          "output_type": "execute_result",
          "data": {
            "text/plain": [
              "array([False, False, False, False,  True,  True,  True,  True,  True,\n",
              "        True])"
            ]
          },
          "metadata": {},
          "execution_count": 181
        }
      ]
    },
    {
      "cell_type": "code",
      "source": [
        "boo_arr = ar>4"
      ],
      "metadata": {
        "id": "KPKILvXsNUgo"
      },
      "execution_count": 182,
      "outputs": []
    },
    {
      "cell_type": "code",
      "source": [
        "boo_arr"
      ],
      "metadata": {
        "colab": {
          "base_uri": "https://localhost:8080/"
        },
        "id": "GfcqqQVvNUdB",
        "outputId": "6294425a-9226-4fbc-a191-f3c72c3322cd"
      },
      "execution_count": 183,
      "outputs": [
        {
          "output_type": "execute_result",
          "data": {
            "text/plain": [
              "array([False, False, False, False,  True,  True,  True,  True,  True,\n",
              "        True])"
            ]
          },
          "metadata": {},
          "execution_count": 183
        }
      ]
    },
    {
      "cell_type": "code",
      "source": [
        "# normal list illan any clean view use array\n",
        "ar[ar>4] # condition form pannitu ennaoperotor[]"
      ],
      "metadata": {
        "colab": {
          "base_uri": "https://localhost:8080/"
        },
        "id": "EcnwAUx5NUZh",
        "outputId": "0ee6c496-893a-4ca0-b713-922687286cc8"
      },
      "execution_count": 184,
      "outputs": [
        {
          "output_type": "execute_result",
          "data": {
            "text/plain": [
              "array([ 5,  6,  7,  8,  9, 10])"
            ]
          },
          "metadata": {},
          "execution_count": 184
        }
      ]
    },
    {
      "cell_type": "code",
      "source": [
        "# ippo equ example will show \n",
        "ar[ar==2]"
      ],
      "metadata": {
        "colab": {
          "base_uri": "https://localhost:8080/"
        },
        "id": "2xzGHUIGNUU8",
        "outputId": "f211dd6a-959b-4574-d12b-ac7d9dd9e060"
      },
      "execution_count": 185,
      "outputs": [
        {
          "output_type": "execute_result",
          "data": {
            "text/plain": [
              "array([2])"
            ]
          },
          "metadata": {},
          "execution_count": 185
        }
      ]
    },
    {
      "cell_type": "markdown",
      "source": [
        "# Numby operations\n",
        "  # Arithmatic\n",
        "   * You can easily perform array with array arithmetic, or scalar with array arithmetic. Let's see some examples:"
      ],
      "metadata": {
        "id": "k6PcszmhO5tG"
      }
    },
    {
      "cell_type": "code",
      "source": [
        "# create a data inthe 10 numbers \n",
        "a = np.arange(0,11)"
      ],
      "metadata": {
        "id": "CLUiqVnKNUQe"
      },
      "execution_count": 186,
      "outputs": []
    },
    {
      "cell_type": "code",
      "source": [
        "a "
      ],
      "metadata": {
        "colab": {
          "base_uri": "https://localhost:8080/"
        },
        "id": "VUgWRVu-wDdt",
        "outputId": "d9fbb9fa-9b48-46df-a9e1-8c928036107c"
      },
      "execution_count": 187,
      "outputs": [
        {
          "output_type": "execute_result",
          "data": {
            "text/plain": [
              "array([ 0,  1,  2,  3,  4,  5,  6,  7,  8,  9, 10])"
            ]
          },
          "metadata": {},
          "execution_count": 187
        }
      ]
    },
    {
      "cell_type": "code",
      "source": [
        "# why use numpy so easy and low code did u add a list \n",
        "# python program is some like complicated code.\n",
        "a + a  # add a two list(array)"
      ],
      "metadata": {
        "colab": {
          "base_uri": "https://localhost:8080/"
        },
        "id": "1cY1-Qs_NUMM",
        "outputId": "43e15598-7942-4bcf-a4f5-f06242730030"
      },
      "execution_count": 188,
      "outputs": [
        {
          "output_type": "execute_result",
          "data": {
            "text/plain": [
              "array([ 0,  2,  4,  6,  8, 10, 12, 14, 16, 18, 20])"
            ]
          },
          "metadata": {},
          "execution_count": 188
        }
      ]
    },
    {
      "cell_type": "code",
      "source": [
        "# mulitiply a two no array\n",
        "a*a  # multiple a two array"
      ],
      "metadata": {
        "colab": {
          "base_uri": "https://localhost:8080/"
        },
        "id": "FhnDt7a2NUIa",
        "outputId": "c5d67aab-ab08-45b7-b2a9-833c44b008c2"
      },
      "execution_count": 189,
      "outputs": [
        {
          "output_type": "execute_result",
          "data": {
            "text/plain": [
              "array([  0,   1,   4,   9,  16,  25,  36,  49,  64,  81, 100])"
            ]
          },
          "metadata": {},
          "execution_count": 189
        }
      ]
    },
    {
      "cell_type": "code",
      "source": [
        "# sub a two list (array)\n",
        "a-a"
      ],
      "metadata": {
        "colab": {
          "base_uri": "https://localhost:8080/"
        },
        "id": "j4KK7_b9NUC3",
        "outputId": "9e3231ef-4018-4da3-d3a0-24d65fafd6df"
      },
      "execution_count": 190,
      "outputs": [
        {
          "output_type": "execute_result",
          "data": {
            "text/plain": [
              "array([0, 0, 0, 0, 0, 0, 0, 0, 0, 0, 0])"
            ]
          },
          "metadata": {},
          "execution_count": 190
        }
      ]
    },
    {
      "cell_type": "code",
      "source": [
        "# Warning on division by zero, but not an error!\n",
        "# Just replaced with nan\n",
        "a/a  # nan means not a number"
      ],
      "metadata": {
        "colab": {
          "base_uri": "https://localhost:8080/"
        },
        "id": "8cDktphdNT7j",
        "outputId": "25a229c5-7f18-4993-958e-df7c3a9ea1ea"
      },
      "execution_count": 191,
      "outputs": [
        {
          "output_type": "stream",
          "name": "stderr",
          "text": [
            "/usr/local/lib/python3.7/dist-packages/ipykernel_launcher.py:3: RuntimeWarning: invalid value encountered in true_divide\n",
            "  This is separate from the ipykernel package so we can avoid doing imports until\n"
          ]
        },
        {
          "output_type": "execute_result",
          "data": {
            "text/plain": [
              "array([nan,  1.,  1.,  1.,  1.,  1.,  1.,  1.,  1.,  1.,  1.])"
            ]
          },
          "metadata": {},
          "execution_count": 191
        }
      ]
    },
    {
      "cell_type": "code",
      "source": [
        "1/a  # like division inthe normal form. 0/1 is infiniy"
      ],
      "metadata": {
        "colab": {
          "base_uri": "https://localhost:8080/"
        },
        "id": "bogOcAs2NT12",
        "outputId": "d7e72c1b-c570-440a-c52f-3f7f16451ea4"
      },
      "execution_count": 192,
      "outputs": [
        {
          "output_type": "stream",
          "name": "stderr",
          "text": [
            "/usr/local/lib/python3.7/dist-packages/ipykernel_launcher.py:1: RuntimeWarning: divide by zero encountered in true_divide\n",
            "  \"\"\"Entry point for launching an IPython kernel.\n"
          ]
        },
        {
          "output_type": "execute_result",
          "data": {
            "text/plain": [
              "array([       inf, 1.        , 0.5       , 0.33333333, 0.25      ,\n",
              "       0.2       , 0.16666667, 0.14285714, 0.125     , 0.11111111,\n",
              "       0.1       ])"
            ]
          },
          "metadata": {},
          "execution_count": 192
        }
      ]
    },
    {
      "cell_type": "code",
      "source": [
        "# like usea/1 not same value\n",
        "a/1  # like  a created value like same value"
      ],
      "metadata": {
        "colab": {
          "base_uri": "https://localhost:8080/"
        },
        "id": "iVKG5PMwNTyj",
        "outputId": "c97e369f-4af3-416f-9738-6b8241baa95d"
      },
      "execution_count": 193,
      "outputs": [
        {
          "output_type": "execute_result",
          "data": {
            "text/plain": [
              "array([ 0.,  1.,  2.,  3.,  4.,  5.,  6.,  7.,  8.,  9., 10.])"
            ]
          },
          "metadata": {},
          "execution_count": 193
        }
      ]
    },
    {
      "cell_type": "code",
      "source": [
        "# use cube like a**3\n",
        "a**3"
      ],
      "metadata": {
        "colab": {
          "base_uri": "https://localhost:8080/"
        },
        "id": "D6lsHijHNTtM",
        "outputId": "4c5489f9-e774-4ca7-aa4f-9f6c628badba"
      },
      "execution_count": 194,
      "outputs": [
        {
          "output_type": "execute_result",
          "data": {
            "text/plain": [
              "array([   0,    1,    8,   27,   64,  125,  216,  343,  512,  729, 1000])"
            ]
          },
          "metadata": {},
          "execution_count": 194
        }
      ]
    },
    {
      "cell_type": "markdown",
      "source": [
        "# Universal Array Functions\n",
        "  * like universal array fun means like min,max wise sequre root ,exp finded.\n",
        "  * Numpy comes with many universal array functions, which are essentially just mathematical operations you can use to perform the operation across the array. Let's show some common ones:"
      ],
      "metadata": {
        "id": "RRjtQK4myxcq"
      }
    },
    {
      "cell_type": "code",
      "source": [
        "# this the method for find sqrt root\n",
        "np.sqrt(a)"
      ],
      "metadata": {
        "colab": {
          "base_uri": "https://localhost:8080/"
        },
        "id": "qBAuWyqwygXc",
        "outputId": "dee3a7e3-4122-4ddc-96b8-8fa628b1d8e2"
      },
      "execution_count": 196,
      "outputs": [
        {
          "output_type": "execute_result",
          "data": {
            "text/plain": [
              "array([0.        , 1.        , 1.41421356, 1.73205081, 2.        ,\n",
              "       2.23606798, 2.44948974, 2.64575131, 2.82842712, 3.        ,\n",
              "       3.16227766])"
            ]
          },
          "metadata": {},
          "execution_count": 196
        }
      ]
    },
    {
      "cell_type": "code",
      "source": [
        "# the exponential value find\n",
        "np.exp(a)"
      ],
      "metadata": {
        "colab": {
          "base_uri": "https://localhost:8080/"
        },
        "id": "zUSYy7PFygTm",
        "outputId": "1fd9a56a-698f-449f-b7b7-aede96ed7dfd"
      },
      "execution_count": 197,
      "outputs": [
        {
          "output_type": "execute_result",
          "data": {
            "text/plain": [
              "array([1.00000000e+00, 2.71828183e+00, 7.38905610e+00, 2.00855369e+01,\n",
              "       5.45981500e+01, 1.48413159e+02, 4.03428793e+02, 1.09663316e+03,\n",
              "       2.98095799e+03, 8.10308393e+03, 2.20264658e+04])"
            ]
          },
          "metadata": {},
          "execution_count": 197
        }
      ]
    },
    {
      "cell_type": "code",
      "source": [
        "# find max \n",
        "np.max(a)"
      ],
      "metadata": {
        "colab": {
          "base_uri": "https://localhost:8080/"
        },
        "id": "ri-LB7G2ygQP",
        "outputId": "56a67723-a4d4-4c20-aab9-3e69526ccaa0"
      },
      "execution_count": 198,
      "outputs": [
        {
          "output_type": "execute_result",
          "data": {
            "text/plain": [
              "10"
            ]
          },
          "metadata": {},
          "execution_count": 198
        }
      ]
    },
    {
      "cell_type": "code",
      "source": [
        "# min\n",
        "np.min(a)"
      ],
      "metadata": {
        "colab": {
          "base_uri": "https://localhost:8080/"
        },
        "id": "X0OVmG4TygLm",
        "outputId": "e1ca442a-d8dd-4084-c8c0-103f2425796c"
      },
      "execution_count": 199,
      "outputs": [
        {
          "output_type": "execute_result",
          "data": {
            "text/plain": [
              "0"
            ]
          },
          "metadata": {},
          "execution_count": 199
        }
      ]
    },
    {
      "cell_type": "code",
      "source": [
        "# find log\n",
        "np.log(a)"
      ],
      "metadata": {
        "colab": {
          "base_uri": "https://localhost:8080/"
        },
        "id": "rAm_iYCS0Mrg",
        "outputId": "aae24f77-42bc-4150-ec0b-6f8fe6e71ee5"
      },
      "execution_count": 200,
      "outputs": [
        {
          "output_type": "stream",
          "name": "stderr",
          "text": [
            "/usr/local/lib/python3.7/dist-packages/ipykernel_launcher.py:2: RuntimeWarning: divide by zero encountered in log\n",
            "  \n"
          ]
        },
        {
          "output_type": "execute_result",
          "data": {
            "text/plain": [
              "array([      -inf, 0.        , 0.69314718, 1.09861229, 1.38629436,\n",
              "       1.60943791, 1.79175947, 1.94591015, 2.07944154, 2.19722458,\n",
              "       2.30258509])"
            ]
          },
          "metadata": {},
          "execution_count": 200
        }
      ]
    },
    {
      "cell_type": "code",
      "source": [
        "# find sin\n",
        "np.sin(a)"
      ],
      "metadata": {
        "colab": {
          "base_uri": "https://localhost:8080/"
        },
        "id": "ZRn4sEHb0YEx",
        "outputId": "a57cc75b-d9b2-441e-c537-59a24004aa57"
      },
      "execution_count": 201,
      "outputs": [
        {
          "output_type": "execute_result",
          "data": {
            "text/plain": [
              "array([ 0.        ,  0.84147098,  0.90929743,  0.14112001, -0.7568025 ,\n",
              "       -0.95892427, -0.2794155 ,  0.6569866 ,  0.98935825,  0.41211849,\n",
              "       -0.54402111])"
            ]
          },
          "metadata": {},
          "execution_count": 201
        }
      ]
    },
    {
      "cell_type": "code",
      "source": [
        "# find cos\n",
        "np.cos(a)"
      ],
      "metadata": {
        "colab": {
          "base_uri": "https://localhost:8080/"
        },
        "id": "R8IAp8df0YAk",
        "outputId": "9cd7148f-590e-4352-d08d-3feb7d4adc26"
      },
      "execution_count": 202,
      "outputs": [
        {
          "output_type": "execute_result",
          "data": {
            "text/plain": [
              "array([ 1.        ,  0.54030231, -0.41614684, -0.9899925 , -0.65364362,\n",
              "        0.28366219,  0.96017029,  0.75390225, -0.14550003, -0.91113026,\n",
              "       -0.83907153])"
            ]
          },
          "metadata": {},
          "execution_count": 202
        }
      ]
    }
  ],
  "metadata": {
    "colab": {
      "name": "Numpy_notes.ipynb",
      "provenance": [],
      "collapsed_sections": [
        "5Gq6Z9Re8US_",
        "PlXtpS2EUmTX",
        "Mum4YRl37k0J",
        "e7_QGKh69omr",
        "Cj-BaGoxCar0",
        "kOA6l_cZUGdI",
        "--iiXVnkYYHI",
        "7wbCFPEQhUQU",
        "nnWtw0sSk02P",
        "CvBUUmZw5wW_",
        "kB436hjs9EcK"
      ]
    },
    "kernelspec": {
      "display_name": "Python 3",
      "name": "python3"
    },
    "language_info": {
      "name": "python"
    }
  },
  "nbformat": 4,
  "nbformat_minor": 0
}